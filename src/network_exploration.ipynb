{
 "cells": [
  {
   "cell_type": "code",
   "execution_count": 21,
   "metadata": {},
   "outputs": [],
   "source": [
    "import warnings\n",
    "\n",
    "import ipywidgets as widgets\n",
    "import matplotlib.colors as mcolors\n",
    "import matplotlib.pyplot as plt\n",
    "import pandas as pd\n",
    "import seaborn as sns\n",
    "from IPython.display import display\n",
    "\n",
    "from allocation_forecast import (create_station_location_mapping,\n",
    "                                 spatial_demand_extraction)\n",
    "from utils import load_data, preprocess\n",
    "\n",
    "warnings.filterwarnings('ignore')"
   ]
  },
  {
   "cell_type": "code",
   "execution_count": 12,
   "metadata": {},
   "outputs": [],
   "source": [
    "# Load the data and preprocess\n",
    "df = load_data(path='../data/raw/')\n",
    "df = preprocess(df)\n",
    "# Extract the spatial demand\n",
    "demand = spatial_demand_extraction(df)\n",
    "station_location_dict = create_station_location_mapping(df)\n",
    "# Map both lat and lng using the dictionary of tuples\n",
    "demand['latitudes'] = demand['station_name'].map(\n",
    "    lambda x: station_location_dict.get(x, (None, None))[0])\n",
    "demand['longitudes'] = demand['station_name'].map(\n",
    "    lambda x: station_location_dict.get(x, (None, None))[1])\n"
   ]
  },
  {
   "cell_type": "code",
   "execution_count": 22,
   "metadata": {},
   "outputs": [
    {
     "data": {
      "application/vnd.jupyter.widget-view+json": {
       "model_id": "16292257d3b543dbad100b2c1a28a0bf",
       "version_major": 2,
       "version_minor": 0
      },
      "text/plain": [
       "interactive(children=(IntSlider(value=0, description='Hour', max=23), Output()), _dom_classes=('widget-interac…"
      ]
     },
     "execution_count": 22,
     "metadata": {},
     "output_type": "execute_result"
    }
   ],
   "source": [
    "# Create an interactive plot to visualize the net bike count by station\n",
    "# location\n",
    "\n",
    "# Define the feature to use for the slider\n",
    "feature = 'hour'\n",
    "max_slider = demand[feature].nunique() - 1\n",
    "\n",
    "# Define fixed longitude, latitude, and net bike ranges\n",
    "timelapsed_averaged = demand.groupby(['station_name', 'latitudes', 'longitudes', feature])[\n",
    "    'net_bikes'].mean().reset_index()\n",
    "lon_min, lon_max = timelapsed_averaged['longitudes'].min(\n",
    "), timelapsed_averaged['longitudes'].max()\n",
    "lat_min, lat_max = timelapsed_averaged['latitudes'].min(\n",
    "), timelapsed_averaged['latitudes'].max()\n",
    "net_bike_min, net_bike_max = timelapsed_averaged['net_bikes'].min(\n",
    "), timelapsed_averaged['net_bikes'].max()\n",
    "\n",
    "# Create a Normalize instance to fix color scaling\n",
    "norm = mcolors.Normalize(vmin=-20, vmax=20)\n",
    "\n",
    "# Define the function to update the plot based on the selected hour\n",
    "\n",
    "\n",
    "def update_plot(time):\n",
    "    # Clear the current figure\n",
    "    plt.figure(figsize=(10, 8))\n",
    "\n",
    "    # Filter the data for the selected hour\n",
    "    data = timelapsed_averaged[timelapsed_averaged[feature] == time]\n",
    "\n",
    "    # Create the scatter plot with consistent size and color scaling\n",
    "    sns.scatterplot(\n",
    "        x='longitudes',\n",
    "        y='latitudes',\n",
    "        size='net_bikes',             # Use net_bikes directly for size\n",
    "        # Fixed min and max point sizes across all hours\n",
    "        sizes=(10, 100),\n",
    "        hue='net_bikes',              # Color based on net_bikes for consistent color scaling\n",
    "        data=data,\n",
    "        palette='coolwarm',           # Use a consistent palette\n",
    "        alpha=0.6,\n",
    "        legend='brief',\n",
    "        hue_norm=norm                 # Apply the Normalize instance for consistent color scaling\n",
    "    )\n",
    "\n",
    "    # Set fixed axis limits\n",
    "    plt.xlim(lon_min, lon_max)\n",
    "    plt.ylim(lat_min, lat_max)\n",
    "\n",
    "    # Set plot labels and title for each frame\n",
    "    plt.xlabel(\"Longitude\")\n",
    "    plt.ylabel(\"Latitude\")\n",
    "    plt.title(f\"Net Bike Count by Station Location - {feature}: {time}\")\n",
    "    # plt.colorbar(plt.cm.ScalarMappable(norm=norm, cmap='coolwarm'), label='Net Bike Count')\n",
    "    plt.show()\n",
    "\n",
    "\n",
    "# Create an interactive slider widget\n",
    "slider = widgets.IntSlider(\n",
    "    value=0,\n",
    "    min=0,\n",
    "    max=max_slider,\n",
    "    step=1,\n",
    "    description=f'{\n",
    "        feature.capitalize()}')\n",
    "\n",
    "# Use the `interact` function to update the plot when the slider is changed\n",
    "widgets.interactive(update_plot, time=slider)"
   ]
  },
  {
   "cell_type": "code",
   "execution_count": null,
   "metadata": {},
   "outputs": [],
   "source": []
  }
 ],
 "metadata": {
  "kernelspec": {
   "display_name": "citibike",
   "language": "python",
   "name": "python3"
  },
  "language_info": {
   "codemirror_mode": {
    "name": "ipython",
    "version": 3
   },
   "file_extension": ".py",
   "mimetype": "text/x-python",
   "name": "python",
   "nbconvert_exporter": "python",
   "pygments_lexer": "ipython3",
   "version": "3.12.7"
  }
 },
 "nbformat": 4,
 "nbformat_minor": 2
}
